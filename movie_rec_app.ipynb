{
 "cells": [
  {
   "cell_type": "code",
   "execution_count": 1,
   "id": "dd8c950b",
   "metadata": {},
   "outputs": [],
   "source": [
    "from pyspark.sql import SparkSession\n",
    "from pyspark.ml.recommendation import ALS\n",
    "from pyspark.ml.evaluation import RegressionEvaluator\n",
    "from pyspark.sql import functions as sf\n",
    "from pyspark.sql.types import StructType, StructField, IntegerType, StringType"
   ]
  },
  {
   "cell_type": "code",
   "execution_count": 2,
   "id": "d43f67ee",
   "metadata": {},
   "outputs": [
    {
     "name": "stderr",
     "output_type": "stream",
     "text": [
      "WARNING: Using incubator modules: jdk.incubator.vector\n",
      "Using Spark's default log4j profile: org/apache/spark/log4j2-defaults.properties\n",
      "Setting default log level to \"WARN\".\n",
      "To adjust logging level use sc.setLogLevel(newLevel). For SparkR, use setLogLevel(newLevel).\n",
      "25/09/17 11:13:59 WARN NativeCodeLoader: Unable to load native-hadoop library for your platform... using builtin-java classes where applicable\n"
     ]
    }
   ],
   "source": [
    "# Creating session\n",
    "spark = SparkSession.builder.appName(\"Movie Recommendation App\").getOrCreate()"
   ]
  },
  {
   "cell_type": "code",
   "execution_count": 3,
   "id": "60e4335c",
   "metadata": {},
   "outputs": [
    {
     "name": "stdout",
     "output_type": "stream",
     "text": [
      "+------+-------+------+---------+\n",
      "|userId|movieId|rating|timestamp|\n",
      "+------+-------+------+---------+\n",
      "|     1|      1|   4.0|964982703|\n",
      "|     1|      3|   4.0|964981247|\n",
      "|     1|      6|   4.0|964982224|\n",
      "|     1|     47|   5.0|964983815|\n",
      "|     1|     50|   5.0|964982931|\n",
      "|     1|     70|   3.0|964982400|\n",
      "|     1|    101|   5.0|964980868|\n",
      "|     1|    110|   4.0|964982176|\n",
      "|     1|    151|   5.0|964984041|\n",
      "|     1|    157|   5.0|964984100|\n",
      "|     1|    163|   5.0|964983650|\n",
      "|     1|    216|   5.0|964981208|\n",
      "|     1|    223|   3.0|964980985|\n",
      "|     1|    231|   5.0|964981179|\n",
      "|     1|    235|   4.0|964980908|\n",
      "|     1|    260|   5.0|964981680|\n",
      "|     1|    296|   3.0|964982967|\n",
      "|     1|    316|   3.0|964982310|\n",
      "|     1|    333|   5.0|964981179|\n",
      "|     1|    349|   4.0|964982563|\n",
      "+------+-------+------+---------+\n",
      "only showing top 20 rows\n"
     ]
    }
   ],
   "source": [
    "\n",
    "# Reading the ratings_small csv file\n",
    "\n",
    "df_ratings_small  = spark.read.csv(\"data/movie-lens-small-latest-dataset/ratings.csv\", header=True, inferSchema=True)\n",
    "\n",
    "\n",
    "df_ratings_small.show()"
   ]
  },
  {
   "cell_type": "code",
   "execution_count": 4,
   "id": "def905f4",
   "metadata": {},
   "outputs": [
    {
     "name": "stdout",
     "output_type": "stream",
     "text": [
      "ratings counts: 100836\n",
      " user counts: 610\n",
      " movies count: 9724\n"
     ]
    }
   ],
   "source": [
    "#counting data\n",
    "ratings_counts = df_ratings_small.select(\"rating\").count()\n",
    "users_count = df_ratings_small.select(\"userId\").distinct().count()\n",
    "movies_count = df_ratings_small.select(\"movieId\").distinct().count()\n",
    "\n",
    "print(f\"ratings counts: {ratings_counts}\\n user counts: {users_count}\\n movies count: {movies_count}\")"
   ]
  },
  {
   "cell_type": "code",
   "execution_count": 5,
   "id": "0f29d1f1",
   "metadata": {},
   "outputs": [
    {
     "name": "stdout",
     "output_type": "stream",
     "text": [
      "+------+-----+\n",
      "|userId|count|\n",
      "+------+-----+\n",
      "|   148|   48|\n",
      "|   463|   33|\n",
      "|   471|   28|\n",
      "|   496|   29|\n",
      "|   243|   36|\n",
      "|   392|   25|\n",
      "|   540|   42|\n",
      "|    31|   50|\n",
      "|   516|   26|\n",
      "|    85|   34|\n",
      "|   137|  141|\n",
      "|   251|   23|\n",
      "|   451|   34|\n",
      "|   580|  436|\n",
      "|    65|   34|\n",
      "|   458|   59|\n",
      "|    53|   20|\n",
      "|   255|   44|\n",
      "|   481|   31|\n",
      "|   588|   56|\n",
      "+------+-----+\n",
      "only showing top 20 rows\n"
     ]
    }
   ],
   "source": [
    "df_ratings_small.groupBy(\"userId\").count().show()"
   ]
  },
  {
   "cell_type": "code",
   "execution_count": 6,
   "id": "00d37eda",
   "metadata": {},
   "outputs": [],
   "source": [
    "(train, test) = df_ratings_small.randomSplit([0.8, 0.2], seed=42)"
   ]
  },
  {
   "cell_type": "code",
   "execution_count": 7,
   "id": "7418f2a7",
   "metadata": {},
   "outputs": [],
   "source": [
    "als = ALS(\n",
    "    maxIter=10,\n",
    "    regParam=0.1,\n",
    "    rank=15,\n",
    "    userCol=\"userId\",\n",
    "    itemCol=\"movieId\",\n",
    "    ratingCol=\"rating\",\n",
    "    coldStartStrategy=\"drop\", \n",
    "    implicitPrefs=False, \n",
    "\n",
    "    )\n"
   ]
  },
  {
   "cell_type": "code",
   "execution_count": 8,
   "id": "5183b126",
   "metadata": {},
   "outputs": [],
   "source": [
    "# Train model\n",
    "model = als.fit(train)"
   ]
  },
  {
   "cell_type": "code",
   "execution_count": 9,
   "id": "5cb595a3",
   "metadata": {},
   "outputs": [
    {
     "name": "stdout",
     "output_type": "stream",
     "text": [
      "Root-mean-square error = 0.8806\n"
     ]
    }
   ],
   "source": [
    "# Test model\n",
    "predictions = model.transform(test)\n",
    "\n",
    "evaluator = RegressionEvaluator(\n",
    "    metricName=\"rmse\",\n",
    "    labelCol=\"rating\",\n",
    "    predictionCol=\"prediction\"\n",
    ")\n",
    "\n",
    "rmse = evaluator.evaluate(predictions)\n",
    "print(f\"Root-mean-square error = {rmse:.4f}\")"
   ]
  },
  {
   "cell_type": "code",
   "execution_count": 10,
   "id": "a5acbe58",
   "metadata": {},
   "outputs": [
    {
     "name": "stderr",
     "output_type": "stream",
     "text": [
      "25/09/17 11:14:44 WARN MemoryManager: Total allocation exceeds 95.00% (1,020,054,720 bytes) of heap memory\n",
      "Scaling row group sizes to 95.00% for 8 writers\n",
      "25/09/17 11:14:44 WARN MemoryManager: Total allocation exceeds 95.00% (1,020,054,720 bytes) of heap memory\n",
      "Scaling row group sizes to 84.44% for 9 writers\n",
      "25/09/17 11:14:44 WARN MemoryManager: Total allocation exceeds 95.00% (1,020,054,720 bytes) of heap memory\n",
      "Scaling row group sizes to 76.00% for 10 writers\n",
      "25/09/17 11:14:44 WARN MemoryManager: Total allocation exceeds 95.00% (1,020,054,720 bytes) of heap memory\n",
      "Scaling row group sizes to 84.44% for 9 writers\n",
      "25/09/17 11:14:44 WARN MemoryManager: Total allocation exceeds 95.00% (1,020,054,720 bytes) of heap memory\n",
      "Scaling row group sizes to 95.00% for 8 writers\n",
      "25/09/17 11:14:44 WARN MemoryManager: Total allocation exceeds 95.00% (1,020,054,720 bytes) of heap memory\n",
      "Scaling row group sizes to 95.00% for 8 writers\n",
      "25/09/17 11:14:44 WARN MemoryManager: Total allocation exceeds 95.00% (1,020,054,720 bytes) of heap memory\n",
      "Scaling row group sizes to 84.44% for 9 writers\n",
      "25/09/17 11:14:44 WARN MemoryManager: Total allocation exceeds 95.00% (1,020,054,720 bytes) of heap memory\n",
      "Scaling row group sizes to 76.00% for 10 writers\n",
      "25/09/17 11:14:44 WARN MemoryManager: Total allocation exceeds 95.00% (1,020,054,720 bytes) of heap memory\n",
      "Scaling row group sizes to 84.44% for 9 writers\n",
      "25/09/17 11:14:44 WARN MemoryManager: Total allocation exceeds 95.00% (1,020,054,720 bytes) of heap memory\n",
      "Scaling row group sizes to 95.00% for 8 writers\n"
     ]
    }
   ],
   "source": [
    "# Saving model for later use\n",
    "model.write().overwrite().save(\"models/ratings_small_model-latent-features-15\")"
   ]
  },
  {
   "cell_type": "code",
   "execution_count": 11,
   "id": "a8007da6",
   "metadata": {},
   "outputs": [
    {
     "name": "stdout",
     "output_type": "stream",
     "text": [
      "User Recommendations:\n"
     ]
    },
    {
     "name": "stderr",
     "output_type": "stream",
     "text": [
      "[Stage 201:=======================================>             (75 + 12) / 100]\r"
     ]
    },
    {
     "name": "stdout",
     "output_type": "stream",
     "text": [
      "+------+---------------------------------------------------------------------------------------------------+\n",
      "|userId|recommendations                                                                                    |\n",
      "+------+---------------------------------------------------------------------------------------------------+\n",
      "|1     |[{3925, 5.7489285}, {177593, 5.5231633}, {78836, 5.4830256}, {55276, 5.4576864}, {3494, 5.4218707}]|\n",
      "|2     |[{131724, 4.9030952}, {1274, 4.717609}, {53123, 4.5893817}, {1732, 4.5761437}, {2843, 4.561259}]   |\n",
      "|3     |[{6835, 4.905354}, {5746, 4.905354}, {5181, 4.848927}, {74754, 4.795737}, {4518, 4.7803164}]       |\n",
      "|4     |[{1611, 5.0496364}, {1212, 4.964766}, {3851, 4.935221}, {1733, 4.887687}, {1046, 4.8553886}]       |\n",
      "|5     |[{1203, 4.8973293}, {55276, 4.723255}, {3494, 4.6775494}, {2804, 4.650452}, {5915, 4.6366687}]     |\n",
      "+------+---------------------------------------------------------------------------------------------------+\n",
      "only showing top 5 rows\n"
     ]
    },
    {
     "name": "stderr",
     "output_type": "stream",
     "text": [
      "                                                                                \r"
     ]
    }
   ],
   "source": [
    "## Get recommendations for users\n",
    "userRecs = model.recommendForAllUsers(5)\n",
    "print(\"User Recommendations:\")\n",
    "userRecs.show(5, truncate=False)"
   ]
  },
  {
   "cell_type": "code",
   "execution_count": 12,
   "id": "36a4901a",
   "metadata": {},
   "outputs": [
    {
     "name": "stdout",
     "output_type": "stream",
     "text": [
      "+------+-------+----------------+\n",
      "|userId|movieId|predicted_rating|\n",
      "+------+-------+----------------+\n",
      "|1     |3925   |5.7489285       |\n",
      "|1     |177593 |5.5231633       |\n",
      "|1     |78836  |5.4830256       |\n",
      "|1     |55276  |5.4576864       |\n",
      "|1     |3494   |5.4218707       |\n",
      "|2     |131724 |4.9030952       |\n",
      "|2     |1274   |4.717609        |\n",
      "|2     |53123  |4.5893817       |\n",
      "|2     |1732   |4.5761437       |\n",
      "|2     |2843   |4.561259        |\n",
      "+------+-------+----------------+\n",
      "only showing top 10 rows\n"
     ]
    }
   ],
   "source": [
    "from pyspark.sql.functions import explode, col\n",
    "\n",
    "# Flatten movie recommendations data frames\n",
    "flatRecs = userRecs.withColumn(\"rec\", explode(col(\"recommendations\"))) \\\n",
    "    .select(\n",
    "        col(\"userId\"),\n",
    "        col(\"rec.movieId\").alias(\"movieId\"),\n",
    "        col(\"rec.rating\").alias(\"predicted_rating\")\n",
    "    )\n",
    "\n",
    "flatRecs.show(10, False)\n"
   ]
  },
  {
   "cell_type": "code",
   "execution_count": 13,
   "id": "21236a40",
   "metadata": {},
   "outputs": [
    {
     "name": "stderr",
     "output_type": "stream",
     "text": [
      "                                                                                \r"
     ]
    },
    {
     "data": {
      "text/plain": [
       "3050"
      ]
     },
     "execution_count": 13,
     "metadata": {},
     "output_type": "execute_result"
    }
   ],
   "source": [
    "flatRecs.count()"
   ]
  },
  {
   "cell_type": "code",
   "execution_count": 14,
   "id": "4f56aabe",
   "metadata": {},
   "outputs": [
    {
     "name": "stdout",
     "output_type": "stream",
     "text": [
      "+-------+--------------------+--------------------+\n",
      "|movieId|               title|              genres|\n",
      "+-------+--------------------+--------------------+\n",
      "|      1|    Toy Story (1995)|Adventure|Animati...|\n",
      "|      2|      Jumanji (1995)|Adventure|Childre...|\n",
      "|      3|Grumpier Old Men ...|      Comedy|Romance|\n",
      "|      4|Waiting to Exhale...|Comedy|Drama|Romance|\n",
      "|      5|Father of the Bri...|              Comedy|\n",
      "|      6|         Heat (1995)|Action|Crime|Thri...|\n",
      "|      7|      Sabrina (1995)|      Comedy|Romance|\n",
      "|      8| Tom and Huck (1995)|  Adventure|Children|\n",
      "|      9| Sudden Death (1995)|              Action|\n",
      "|     10|    GoldenEye (1995)|Action|Adventure|...|\n",
      "|     11|American Presiden...|Comedy|Drama|Romance|\n",
      "|     12|Dracula: Dead and...|       Comedy|Horror|\n",
      "|     13|        Balto (1995)|Adventure|Animati...|\n",
      "|     14|        Nixon (1995)|               Drama|\n",
      "|     15|Cutthroat Island ...|Action|Adventure|...|\n",
      "|     16|       Casino (1995)|         Crime|Drama|\n",
      "|     17|Sense and Sensibi...|       Drama|Romance|\n",
      "|     18|   Four Rooms (1995)|              Comedy|\n",
      "|     19|Ace Ventura: When...|              Comedy|\n",
      "|     20|  Money Train (1995)|Action|Comedy|Cri...|\n",
      "+-------+--------------------+--------------------+\n",
      "only showing top 20 rows\n"
     ]
    }
   ],
   "source": [
    "## Getting movie metadata\n",
    "df_movies_metadata  = spark.read.csv(\"data/movie-lens-small-latest-dataset/movies.csv\", header=True, inferSchema=True )\n",
    "df_movies_metadata.show()\n"
   ]
  },
  {
   "cell_type": "code",
   "execution_count": 15,
   "id": "803de7ba",
   "metadata": {},
   "outputs": [
    {
     "name": "stdout",
     "output_type": "stream",
     "text": [
      "+-------+------+----------------+--------------------+--------------------+\n",
      "|movieId|userId|predicted_rating|               title|              genres|\n",
      "+-------+------+----------------+--------------------+--------------------+\n",
      "|   3925|     1|       5.7489285|Stranger Than Par...|        Comedy|Drama|\n",
      "| 177593|     1|       5.5231633|Three Billboards ...|         Crime|Drama|\n",
      "|  78836|     1|       5.4830256|Enter the Void (2...|               Drama|\n",
      "|  55276|     1|       5.4576864|Michael Clayton (...|      Drama|Thriller|\n",
      "|   3494|     1|       5.4218707|    True Grit (1969)|Adventure|Drama|W...|\n",
      "| 131724|     2|       4.9030952|The Jinx: The Lif...|         Documentary|\n",
      "|   1274|     2|        4.717609|        Akira (1988)|Action|Adventure|...|\n",
      "|  53123|     2|       4.5893817|         Once (2006)|Drama|Musical|Rom...|\n",
      "|   1732|     2|       4.5761437|Big Lebowski, The...|        Comedy|Crime|\n",
      "|   2843|     2|        4.561259|Black Cat, White ...|      Comedy|Romance|\n",
      "+-------+------+----------------+--------------------+--------------------+\n",
      "only showing top 10 rows\n"
     ]
    },
    {
     "name": "stderr",
     "output_type": "stream",
     "text": [
      "                                                                                \r"
     ]
    }
   ],
   "source": [
    "\n",
    "recommendations = flatRecs.join(df_movies_metadata, on=\"movieId\",  how = \"left\")\n",
    "recommendations.sort(\"userId\", \"predicted_rating\", ascending = [False, True])\n",
    "recommendations.show(10)"
   ]
  },
  {
   "cell_type": "code",
   "execution_count": 16,
   "id": "53c0469e",
   "metadata": {},
   "outputs": [
    {
     "data": {
      "text/plain": [
       "3050"
      ]
     },
     "execution_count": 16,
     "metadata": {},
     "output_type": "execute_result"
    }
   ],
   "source": [
    "recommendations.count()"
   ]
  }
 ],
 "metadata": {
  "kernelspec": {
   "display_name": "venv",
   "language": "python",
   "name": "python3"
  },
  "language_info": {
   "codemirror_mode": {
    "name": "ipython",
    "version": 3
   },
   "file_extension": ".py",
   "mimetype": "text/x-python",
   "name": "python",
   "nbconvert_exporter": "python",
   "pygments_lexer": "ipython3",
   "version": "3.10.9"
  }
 },
 "nbformat": 4,
 "nbformat_minor": 5
}
