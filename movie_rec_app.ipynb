{
 "cells": [
  {
   "cell_type": "code",
   "execution_count": 4,
   "id": "dd8c950b",
   "metadata": {},
   "outputs": [],
   "source": [
    "from pyspark.sql import SparkSession\n",
    "from pyspark.ml.recommendation import ALS\n",
    "from pyspark.ml.evaluation import RegressionEvaluator\n",
    "from pyspark.sql import functions as sf\n",
    "from pyspark.sql.types import StructType, StructField, IntegerType, StringType"
   ]
  },
  {
   "cell_type": "code",
   "execution_count": 5,
   "id": "d43f67ee",
   "metadata": {},
   "outputs": [],
   "source": [
    "# Creating session\n",
    "spark = SparkSession.builder.appName(\"Movie Recommendation App\").getOrCreate()"
   ]
  },
  {
   "cell_type": "code",
   "execution_count": 9,
   "id": "60e4335c",
   "metadata": {},
   "outputs": [
    {
     "name": "stdout",
     "output_type": "stream",
     "text": [
      "+------+-------+------+----------+\n",
      "|userId|movieId|rating| timestamp|\n",
      "+------+-------+------+----------+\n",
      "|     1|     31|   2.5|1260759144|\n",
      "|     1|   1029|   3.0|1260759179|\n",
      "|     1|   1061|   3.0|1260759182|\n",
      "|     1|   1129|   2.0|1260759185|\n",
      "|     1|   1172|   4.0|1260759205|\n",
      "|     1|   1263|   2.0|1260759151|\n",
      "|     1|   1287|   2.0|1260759187|\n",
      "|     1|   1293|   2.0|1260759148|\n",
      "|     1|   1339|   3.5|1260759125|\n",
      "|     1|   1343|   2.0|1260759131|\n",
      "|     1|   1371|   2.5|1260759135|\n",
      "|     1|   1405|   1.0|1260759203|\n",
      "|     1|   1953|   4.0|1260759191|\n",
      "|     1|   2105|   4.0|1260759139|\n",
      "|     1|   2150|   3.0|1260759194|\n",
      "|     1|   2193|   2.0|1260759198|\n",
      "|     1|   2294|   2.0|1260759108|\n",
      "|     1|   2455|   2.5|1260759113|\n",
      "|     1|   2968|   1.0|1260759200|\n",
      "|     1|   3671|   3.0|1260759117|\n",
      "+------+-------+------+----------+\n",
      "only showing top 20 rows\n"
     ]
    }
   ],
   "source": [
    "\n",
    "# Reading the ratings_small csv file\n",
    "\n",
    "df_ratings_small  = spark.read.csv(\"the-movies-dataset/ratings_small.csv\", header=True, inferSchema=True)\n",
    "\n",
    "df_ratings_small.show()"
   ]
  },
  {
   "cell_type": "code",
   "execution_count": null,
   "id": "def905f4",
   "metadata": {},
   "outputs": [],
   "source": [
    "#counting data\n",
    "ratings_counts = df_ratings_small.select(\"rating\").count()\n",
    "users_count = df_ratings_small.select(\"userId\").distinct().count()\n",
    "movies_count = df_ratings_small.select(\"movieId\").distinct().count()\n",
    "\n",
    "print(f\"ratings counts: {ratings_counts}\\n user counts: {users_count}\\n movies count: {movies_count}\")"
   ]
  },
  {
   "cell_type": "code",
   "execution_count": null,
   "id": "0f29d1f1",
   "metadata": {},
   "outputs": [],
   "source": [
    "df_ratings_small.groupBy(\"userId\").count().show()"
   ]
  },
  {
   "cell_type": "code",
   "execution_count": null,
   "id": "00d37eda",
   "metadata": {},
   "outputs": [],
   "source": [
    "(train, test) = df_ratings_small.randomSplit([0.8, 0.2], seed=42)"
   ]
  },
  {
   "cell_type": "code",
   "execution_count": null,
   "id": "7418f2a7",
   "metadata": {},
   "outputs": [],
   "source": [
    "als = ALS(\n",
    "    maxIter=10,\n",
    "    regParam=0.1,\n",
    "    rank=15,\n",
    "    userCol=\"userId\",\n",
    "    itemCol=\"movieId\",\n",
    "    ratingCol=\"rating\",\n",
    "    coldStartStrategy=\"drop\", \n",
    "    implicitPrefs=False, \n",
    "\n",
    "    )\n"
   ]
  },
  {
   "cell_type": "code",
   "execution_count": null,
   "id": "5183b126",
   "metadata": {},
   "outputs": [],
   "source": [
    "# Train model\n",
    "model = als.fit(train)"
   ]
  },
  {
   "cell_type": "code",
   "execution_count": null,
   "id": "5cb595a3",
   "metadata": {},
   "outputs": [],
   "source": [
    "# Test model\n",
    "predictions = model.transform(test)\n",
    "\n",
    "evaluator = RegressionEvaluator(\n",
    "    metricName=\"rmse\",\n",
    "    labelCol=\"rating\",\n",
    "    predictionCol=\"prediction\"\n",
    ")\n",
    "\n",
    "rmse = evaluator.evaluate(predictions)\n",
    "print(f\"Root-mean-square error = {rmse:.4f}\")"
   ]
  },
  {
   "cell_type": "code",
   "execution_count": null,
   "id": "a5acbe58",
   "metadata": {},
   "outputs": [],
   "source": [
    "# Saving model for later use\n",
    "model.write().overwrite().save(\"models/ratings_small_model-latent-features-15\")"
   ]
  },
  {
   "cell_type": "code",
   "execution_count": null,
   "id": "a8007da6",
   "metadata": {},
   "outputs": [],
   "source": [
    "## Get recommendations for users\n",
    "userRecs = model.recommendForAllUsers(5)\n",
    "print(\"User Recommendations:\")\n",
    "userRecs.show(5, truncate=False)"
   ]
  },
  {
   "cell_type": "code",
   "execution_count": null,
   "id": "36a4901a",
   "metadata": {},
   "outputs": [],
   "source": [
    "from pyspark.sql.functions import explode, col\n",
    "\n",
    "# Flatten movie recommendations data frames\n",
    "flatRecs = userRecs.withColumn(\"rec\", explode(col(\"recommendations\"))) \\\n",
    "    .select(\n",
    "        col(\"userId\"),\n",
    "        col(\"rec.movieId\").alias(\"id\"),\n",
    "        col(\"rec.rating\").alias(\"predicted_rating\")\n",
    "    )\n",
    "\n",
    "flatRecs.show(10, False)\n"
   ]
  },
  {
   "cell_type": "code",
   "execution_count": null,
   "id": "dee342e7",
   "metadata": {},
   "outputs": [],
   "source": []
  },
  {
   "cell_type": "code",
   "execution_count": null,
   "id": "4f56aabe",
   "metadata": {},
   "outputs": [],
   "source": [
    "## Getting movie metadata\n",
    "df_movies_metadata  = spark.read.csv(\"the-movies-dataset/movies_metadata.csv\", header=True, inferSchema=True)\n",
    "df_movies_metadata.show()\n"
   ]
  },
  {
   "cell_type": "code",
   "execution_count": null,
   "id": "faa82fba",
   "metadata": {},
   "outputs": [],
   "source": [
    "## Selecting only relevant metadata\n",
    "selected_metadata= df_movies_metadata.select(['id','title', 'poster_path'])\n",
    "selected_metadata.show()"
   ]
  },
  {
   "cell_type": "code",
   "execution_count": null,
   "id": "803de7ba",
   "metadata": {},
   "outputs": [],
   "source": [
    "recommendations = flatRecs.join(selected_metadata, on =\"id\", how = \"inner\")\n",
    "recommendations.show(10)"
   ]
  }
 ],
 "metadata": {
  "kernelspec": {
   "display_name": "venv",
   "language": "python",
   "name": "python3"
  },
  "language_info": {
   "codemirror_mode": {
    "name": "ipython",
    "version": 3
   },
   "file_extension": ".py",
   "mimetype": "text/x-python",
   "name": "python",
   "nbconvert_exporter": "python",
   "pygments_lexer": "ipython3",
   "version": "3.10.9"
  }
 },
 "nbformat": 4,
 "nbformat_minor": 5
}
