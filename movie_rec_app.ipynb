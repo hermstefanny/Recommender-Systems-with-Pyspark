{
 "cells": [
  {
   "cell_type": "code",
   "execution_count": 12,
   "id": "dd8c950b",
   "metadata": {},
   "outputs": [],
   "source": [
    "from pyspark.sql import SparkSession\n",
    "from pyspark.ml.recommendation import ALS\n",
    "from pyspark.ml.evaluation import RegressionEvaluator"
   ]
  },
  {
   "cell_type": "code",
   "execution_count": 2,
   "id": "d43f67ee",
   "metadata": {},
   "outputs": [
    {
     "name": "stderr",
     "output_type": "stream",
     "text": [
      "WARNING: Using incubator modules: jdk.incubator.vector\n",
      "Using Spark's default log4j profile: org/apache/spark/log4j2-defaults.properties\n",
      "Setting default log level to \"WARN\".\n",
      "To adjust logging level use sc.setLogLevel(newLevel). For SparkR, use setLogLevel(newLevel).\n",
      "25/09/16 15:48:57 WARN NativeCodeLoader: Unable to load native-hadoop library for your platform... using builtin-java classes where applicable\n"
     ]
    }
   ],
   "source": [
    "# Creating session\n",
    "spark = SparkSession.builder.appName(\"Movie Recommendation App\").getOrCreate()"
   ]
  },
  {
   "cell_type": "code",
   "execution_count": 4,
   "id": "60e4335c",
   "metadata": {},
   "outputs": [
    {
     "name": "stdout",
     "output_type": "stream",
     "text": [
      "+------+-------+------+----------+\n",
      "|userId|movieId|rating| timestamp|\n",
      "+------+-------+------+----------+\n",
      "|     1|     31|   2.5|1260759144|\n",
      "|     1|   1029|   3.0|1260759179|\n",
      "|     1|   1061|   3.0|1260759182|\n",
      "|     1|   1129|   2.0|1260759185|\n",
      "|     1|   1172|   4.0|1260759205|\n",
      "|     1|   1263|   2.0|1260759151|\n",
      "|     1|   1287|   2.0|1260759187|\n",
      "|     1|   1293|   2.0|1260759148|\n",
      "|     1|   1339|   3.5|1260759125|\n",
      "|     1|   1343|   2.0|1260759131|\n",
      "|     1|   1371|   2.5|1260759135|\n",
      "|     1|   1405|   1.0|1260759203|\n",
      "|     1|   1953|   4.0|1260759191|\n",
      "|     1|   2105|   4.0|1260759139|\n",
      "|     1|   2150|   3.0|1260759194|\n",
      "|     1|   2193|   2.0|1260759198|\n",
      "|     1|   2294|   2.0|1260759108|\n",
      "|     1|   2455|   2.5|1260759113|\n",
      "|     1|   2968|   1.0|1260759200|\n",
      "|     1|   3671|   3.0|1260759117|\n",
      "+------+-------+------+----------+\n",
      "only showing top 20 rows\n"
     ]
    }
   ],
   "source": [
    "\n",
    "# Reading the ratings_small csv file\n",
    "\n",
    "df_ratings_small  = spark.read.csv(\"the-movies-dataset/ratings_small.csv\", header=True, inferSchema=True)\n",
    "\n",
    "df_ratings_small.show()"
   ]
  },
  {
   "cell_type": "code",
   "execution_count": 6,
   "id": "def905f4",
   "metadata": {},
   "outputs": [
    {
     "name": "stdout",
     "output_type": "stream",
     "text": [
      "ratings counts: 100004\n",
      " user counts: 671\n",
      " movies count: 9066\n"
     ]
    }
   ],
   "source": [
    "#counting data\n",
    "ratings_counts = df_ratings_small.select(\"rating\").count()\n",
    "users_count = df_ratings_small.select(\"userId\").distinct().count()\n",
    "movies_count = df_ratings_small.select(\"movieId\").distinct().count()\n",
    "\n",
    "print(f\"ratings counts: {ratings_counts}\\n user counts: {users_count}\\n movies count: {movies_count}\")"
   ]
  },
  {
   "cell_type": "code",
   "execution_count": 8,
   "id": "0f29d1f1",
   "metadata": {},
   "outputs": [
    {
     "name": "stdout",
     "output_type": "stream",
     "text": [
      "+------+-----+\n",
      "|userId|count|\n",
      "+------+-----+\n",
      "|   148|  132|\n",
      "|   463|  483|\n",
      "|   471|  216|\n",
      "|   496|  126|\n",
      "|   243|  307|\n",
      "|   392|   25|\n",
      "|   540|   20|\n",
      "|   623|  103|\n",
      "|    31|   69|\n",
      "|   516|  149|\n",
      "|    85|  107|\n",
      "|   137|   80|\n",
      "|   251|  119|\n",
      "|   451|   52|\n",
      "|   580|  922|\n",
      "|    65|   27|\n",
      "|   458|   76|\n",
      "|    53|   46|\n",
      "|   255|  145|\n",
      "|   481|  436|\n",
      "+------+-----+\n",
      "only showing top 20 rows\n"
     ]
    }
   ],
   "source": [
    "df_ratings_small.groupBy(\"userId\").count().show()"
   ]
  },
  {
   "cell_type": "code",
   "execution_count": 9,
   "id": "00d37eda",
   "metadata": {},
   "outputs": [],
   "source": [
    "(train, test) = df_ratings_small.randomSplit([0.8, 0.2], seed=42)"
   ]
  },
  {
   "cell_type": "code",
   "execution_count": 13,
   "id": "7418f2a7",
   "metadata": {},
   "outputs": [],
   "source": [
    "als = ALS(\n",
    "    maxIter=10,\n",
    "    regParam=0.1,\n",
    "    rank=15,\n",
    "    userCol=\"userId\",\n",
    "    itemCol=\"movieId\",\n",
    "    ratingCol=\"rating\",\n",
    "    coldStartStrategy=\"drop\", \n",
    "    implicitPrefs=False, \n",
    "\n",
    "    )\n"
   ]
  },
  {
   "cell_type": "code",
   "execution_count": 14,
   "id": "5183b126",
   "metadata": {},
   "outputs": [],
   "source": [
    "# Train model\n",
    "model = als.fit(train)"
   ]
  },
  {
   "cell_type": "code",
   "execution_count": 15,
   "id": "5cb595a3",
   "metadata": {},
   "outputs": [
    {
     "name": "stdout",
     "output_type": "stream",
     "text": [
      "Root-mean-square error = 0.9163\n"
     ]
    }
   ],
   "source": [
    "# Test model\n",
    "predictions = model.transform(test)\n",
    "\n",
    "evaluator = RegressionEvaluator(\n",
    "    metricName=\"rmse\",\n",
    "    labelCol=\"rating\",\n",
    "    predictionCol=\"prediction\"\n",
    ")\n",
    "\n",
    "rmse = evaluator.evaluate(predictions)\n",
    "print(f\"Root-mean-square error = {rmse:.4f}\")"
   ]
  },
  {
   "cell_type": "code",
   "execution_count": 18,
   "id": "a5acbe58",
   "metadata": {},
   "outputs": [
    {
     "name": "stderr",
     "output_type": "stream",
     "text": [
      "25/09/16 16:26:34 WARN MemoryManager: Total allocation exceeds 95.00% (1,020,054,720 bytes) of heap memory\n",
      "Scaling row group sizes to 95.00% for 8 writers\n",
      "25/09/16 16:26:34 WARN MemoryManager: Total allocation exceeds 95.00% (1,020,054,720 bytes) of heap memory\n",
      "Scaling row group sizes to 84.44% for 9 writers\n",
      "25/09/16 16:26:34 WARN MemoryManager: Total allocation exceeds 95.00% (1,020,054,720 bytes) of heap memory\n",
      "Scaling row group sizes to 76.00% for 10 writers\n",
      "25/09/16 16:26:34 WARN MemoryManager: Total allocation exceeds 95.00% (1,020,054,720 bytes) of heap memory\n",
      "Scaling row group sizes to 84.44% for 9 writers\n",
      "25/09/16 16:26:34 WARN MemoryManager: Total allocation exceeds 95.00% (1,020,054,720 bytes) of heap memory\n",
      "Scaling row group sizes to 95.00% for 8 writers\n",
      "25/09/16 16:26:34 WARN MemoryManager: Total allocation exceeds 95.00% (1,020,054,720 bytes) of heap memory\n",
      "Scaling row group sizes to 95.00% for 8 writers\n",
      "25/09/16 16:26:34 WARN MemoryManager: Total allocation exceeds 95.00% (1,020,054,720 bytes) of heap memory\n",
      "Scaling row group sizes to 84.44% for 9 writers\n",
      "25/09/16 16:26:34 WARN MemoryManager: Total allocation exceeds 95.00% (1,020,054,720 bytes) of heap memory\n",
      "Scaling row group sizes to 76.00% for 10 writers\n",
      "25/09/16 16:26:34 WARN MemoryManager: Total allocation exceeds 95.00% (1,020,054,720 bytes) of heap memory\n",
      "Scaling row group sizes to 84.44% for 9 writers\n",
      "25/09/16 16:26:34 WARN MemoryManager: Total allocation exceeds 95.00% (1,020,054,720 bytes) of heap memory\n",
      "Scaling row group sizes to 95.00% for 8 writers\n"
     ]
    }
   ],
   "source": [
    "# Saving model for later use\n",
    "model.save(\"models/ratings_small_model-latent-features-15\")"
   ]
  },
  {
   "cell_type": "code",
   "execution_count": 19,
   "id": "a8007da6",
   "metadata": {},
   "outputs": [
    {
     "name": "stdout",
     "output_type": "stream",
     "text": [
      "User Recommendations:\n",
      "+------+---------------------------------------------------------------------------------------------------+\n",
      "|userId|recommendations                                                                                    |\n",
      "+------+---------------------------------------------------------------------------------------------------+\n",
      "|1     |[{106920, 3.6661716}, {73290, 3.5237124}, {7087, 3.4215543}, {246, 3.3955903}, {3730, 3.3685875}]  |\n",
      "|2     |[{83411, 4.965969}, {83359, 4.965969}, {83318, 4.965969}, {67504, 4.965969}, {7087, 4.6772537}]    |\n",
      "|3     |[{83411, 4.6553082}, {83359, 4.6553082}, {83318, 4.6553082}, {67504, 4.6553082}, {8132, 4.4711556}]|\n",
      "|4     |[{83411, 6.013468}, {83359, 6.013468}, {83318, 6.013468}, {67504, 6.013468}, {1192, 5.7722087}]    |\n",
      "|5     |[{8535, 4.774306}, {1948, 4.7083797}, {65037, 4.6307316}, {59684, 4.6307316}, {2819, 4.612341}]    |\n",
      "+------+---------------------------------------------------------------------------------------------------+\n",
      "only showing top 5 rows\n"
     ]
    },
    {
     "name": "stderr",
     "output_type": "stream",
     "text": [
      "                                                                                \r"
     ]
    }
   ],
   "source": [
    "## Get recommendations for users\n",
    "userRecs = model.recommendForAllUsers(5)\n",
    "print(\"User Recommendations:\")\n",
    "userRecs.show(5, truncate=False)"
   ]
  },
  {
   "cell_type": "code",
   "execution_count": 20,
   "id": "4f56aabe",
   "metadata": {},
   "outputs": [
    {
     "name": "stdout",
     "output_type": "stream",
     "text": [
      "+-----+---------------------+--------+--------------------+--------------------+-----+---------+-----------------+--------------------+--------------------+----------+--------------------+--------------------+--------------------+--------------------+--------------------+--------------------+--------------------+--------+--------------------+--------------------+--------+--------------------+-----------------+\n",
      "|adult|belongs_to_collection|  budget|              genres|            homepage|   id|  imdb_id|original_language|      original_title|            overview|popularity|         poster_path|production_companies|production_countries|        release_date|             revenue|             runtime|    spoken_languages|  status|             tagline|               title|   video|        vote_average|       vote_count|\n",
      "+-----+---------------------+--------+--------------------+--------------------+-----+---------+-----------------+--------------------+--------------------+----------+--------------------+--------------------+--------------------+--------------------+--------------------+--------------------+--------------------+--------+--------------------+--------------------+--------+--------------------+-----------------+\n",
      "|False| {'id': 10194, 'na...|30000000|[{'id': 16, 'name...|http://toystory.d...|  862|tt0114709|               en|           Toy Story|Led by Woody, And...| 21.946943|/rhIRbceoE9lR4veE...|[{'name': 'Pixar ...|[{'iso_3166_1': '...|          1995-10-30|           373554033|                81.0|[{'iso_639_1': 'e...|Released|                NULL|           Toy Story|   False|                 7.7|             5415|\n",
      "|False|                 NULL|65000000|[{'id': 12, 'name...|                NULL| 8844|tt0113497|               en|             Jumanji|When siblings Jud...| 17.015539|/vzmL6fP7aPKNKPRT...|[{'name': 'TriSta...|[{'iso_3166_1': '...|          1995-12-15|           262797249|               104.0|[{'iso_639_1': 'e...|Released|Roll the dice and...|             Jumanji|   False|                 6.9|             2413|\n",
      "|False| {'id': 119050, 'n...|       0|[{'id': 10749, 'n...|                NULL|15602|tt0113228|               en|    Grumpier Old Men|A family wedding ...|   11.7129|/6ksm1sjKMFLbO7UY...|[{'name': 'Warner...|[{'iso_3166_1': '...|          1995-12-22|                   0|               101.0|[{'iso_639_1': 'e...|Released|Still Yelling. St...|    Grumpier Old Men|   False|                 6.5|               92|\n",
      "|False|                 NULL|16000000|[{'id': 35, 'name...|                NULL|31357|tt0114885|               en|   Waiting to Exhale|\"Cheated on, mist...|    Bernie| Glo and Robin ta...| determined to fi...|            3.859495|/16XOMpEaLWkrcPqS...|[{'name': 'Twenti...|[{'iso_3166_1': '...|          1995-12-22|81452156|               127.0|[{'iso_639_1': 'e...|Released|Friends are the p...|Waiting to Exhale|\n",
      "|False| {'id': 96871, 'na...|       0|[{'id': 35, 'name...|                NULL|11862|tt0113041|               en|Father of the Bri...|Just when George ...|  8.387519|/e64sOI48hQXyru7n...|[{'name': 'Sandol...|[{'iso_3166_1': '...|          1995-02-10|            76578911|               106.0|[{'iso_639_1': 'e...|Released|Just When His Wor...|Father of the Bri...|   False|                 5.7|              173|\n",
      "|False|                 NULL|60000000|[{'id': 28, 'name...|                NULL|  949|tt0113277|               en|                Heat|Obsessive master ...| 17.924927|/zMyfPUelumio3tiD...|[{'name': 'Regenc...|[{'iso_3166_1': '...|          1995-12-15|           187436818|               170.0|[{'iso_639_1': 'e...|Released|A Los Angeles Cri...|                Heat|   False|                 7.7|             1886|\n",
      "|False|                 NULL|58000000|[{'id': 35, 'name...|                NULL|11860|tt0114319|               en|             Sabrina|An ugly duckling ...|  6.677277|/jQh15y5YB7bWz1Nt...|[{'name': 'Paramo...|[{'iso_3166_1': '...|          1995-12-15|                   0|               127.0|[{'iso_639_1': 'f...|Released|You are cordially...|             Sabrina|   False|                 6.2|              141|\n",
      "|False|                 NULL|       0|[{'id': 28, 'name...|                NULL|45325|tt0112302|               en|        Tom and Huck|A mischievous you...|  2.561161|/sGO5Qa55p7wTu7FJ...|[{'name': 'Walt D...|[{'iso_3166_1': '...|          1995-12-22|                   0|                97.0|[{'iso_639_1': 'e...|Released|The Original Bad ...|        Tom and Huck|   False|                 5.4|               45|\n",
      "|False|                 NULL|35000000|[{'id': 28, 'name...|                NULL| 9091|tt0114576|               en|        Sudden Death|International act...|   5.23158|/eoWvKD60lT95Ss1M...|[{'name': 'Univer...|[{'iso_3166_1': '...|          1995-12-22|            64350171|               106.0|[{'iso_639_1': 'e...|Released|Terror goes into ...|        Sudden Death|   False|                 5.5|              174|\n",
      "|False| {'id': 645, 'name...|58000000|[{'id': 12, 'name...|http://www.mgm.co...|  710|tt0113189|               en|           GoldenEye|James Bond must u...| 14.686036|/5c0ovjT41KnYIHYu...|[{'name': 'United...|[{'iso_3166_1': '...|          1995-11-16|           352194034|               130.0|[{'iso_639_1': 'e...|Released|No limits. No fea...|           GoldenEye|   False|                 6.6|             1194|\n",
      "|False|                 NULL|62000000|[{'id': 35, 'name...|                NULL| 9087|tt0112346|               en|The American Pres...|Widowed U.S. pres...|  6.318445|/lymPNGLZgPHuqM29...|[{'name': 'Columb...|[{'iso_3166_1': '...|          1995-11-17|           107879496|               106.0|[{'iso_639_1': 'e...|Released|Why can't the mos...|The American Pres...|   False|                 6.5|              199|\n",
      "|False|                 NULL|       0|[{'id': 35, 'name...|                NULL|12110|tt0112896|               en|Dracula: Dead and...|When a lawyer sho...|  5.430331|/xve4cgfYItnOhtzL...|[{'name': 'Columb...|[{'iso_3166_1': '...|          1995-12-22|                   0|                88.0|[{'iso_639_1': 'e...|Released|                NULL|Dracula: Dead and...|   False|                 5.7|              210|\n",
      "|False| {'id': 117693, 'n...|       0|[{'id': 10751, 'n...|                NULL|21032|tt0112453|               en|               Balto|An outcast half-w...| 12.140733|/gV5PCAVCPNxlOLFM...|[{'name': 'Univer...|[{'iso_3166_1': '...|          1995-12-22|            11348324|                78.0|[{'iso_639_1': 'e...|Released|Part Dog. Part Wo...|               Balto|   False|                 7.1|              423|\n",
      "|False|                 NULL|44000000|[{'id': 36, 'name...|                NULL|10858|tt0113987|               en|               Nixon|An all-star cast ...|     5.092|/cICkmCEiXRhvZmbu...|[{'name': 'Hollyw...|[{'iso_3166_1': '...|          1995-12-22|            13681765|               192.0|[{'iso_639_1': 'e...|Released|Triumphant in Vic...|               Nixon|   False|                 7.1|               72|\n",
      "|False|                 NULL|98000000|[{'id': 28, 'name...|                NULL| 1408|tt0112760|               en|    Cutthroat Island|Morgan Adams and ...|  7.284477|/odM9973kIv9hcjfH...|[{'name': 'Le Stu...|[{'iso_3166_1': '...|          1995-12-22|            10017322|               119.0|[{'iso_639_1': 'e...|Released|The Course Has Be...|    Cutthroat Island|   False|                 5.7|              137|\n",
      "|False|                 NULL|52000000|[{'id': 18, 'name...|                NULL|  524|tt0112641|               en|              Casino|The life of the g...| 10.137389|/xo517ibXBDdYQY81...|[{'name': 'Univer...|[{'iso_3166_1': '...|          1995-11-22|           116112375|               178.0|[{'iso_639_1': 'e...|Released|No one stays at t...|              Casino|   False|                 7.8|             1343|\n",
      "|False|                 NULL|16500000|[{'id': 18, 'name...|                NULL| 4584|tt0114388|               en|Sense and Sensibi...|Rich Mr. Dashwood...| 10.673167|/lA9HTy84Bb6ZwNey...|[{'name': 'Columb...|[{'iso_3166_1': '...|          1995-12-13|           135000000|               136.0|[{'iso_639_1': 'e...|Released|Lose your heart a...|Sense and Sensibi...|   False|                 7.2|              364|\n",
      "|False|                 NULL| 4000000|[{'id': 80, 'name...|                NULL|    5|tt0113101|               en|          Four Rooms|It's Ted the Bell...|  9.026586|/eQs5hh9rxrk1m4xH...|[{'name': 'Mirama...|[{'iso_3166_1': '...|          1995-12-09|             4300000|                98.0|[{'iso_639_1': 'e...|Released|Twelve outrageous...|          Four Rooms|   False|                 6.5|              539|\n",
      "|False| {'id': 3167, 'nam...|30000000|[{'id': 80, 'name...|                NULL| 9273|tt0112281|               en|Ace Ventura: When...|Summoned from an ...|  8.205448|/wRlGnJhEzcxBjvWt...|[{'name': 'O Ente...|[{'iso_3166_1': '...|          1995-11-10|           212385533|                90.0|[{'iso_639_1': 'e...|Released|New animals. New ...|Ace Ventura: When...|   False|                 6.1|             1128|\n",
      "|False|                 NULL|60000000|[{'id': 28, 'name...|                NULL|11517|tt0113845|               en|         Money Train|A vengeful New Yo...|  7.337906|/jSozzzVOR2kfXgTU...|[{'name': 'Columb...|[{'iso_3166_1': '...|          1995-11-21|            35431113|               103.0|[{'iso_639_1': 'e...|Released|Get on, or GET OU...|         Money Train|   False|                 5.4|              224|\n",
      "+-----+---------------------+--------+--------------------+--------------------+-----+---------+-----------------+--------------------+--------------------+----------+--------------------+--------------------+--------------------+--------------------+--------------------+--------------------+--------------------+--------+--------------------+--------------------+--------+--------------------+-----------------+\n",
      "only showing top 20 rows\n"
     ]
    }
   ],
   "source": [
    "## Getting movie metadata\n",
    "df_movies_metadata  = spark.read.csv(\"the-movies-dataset/movies_metadata.csv\", header=True, inferSchema=True)\n",
    "df_movies_metadata.show()\n"
   ]
  },
  {
   "cell_type": "code",
   "execution_count": null,
   "id": "faa82fba",
   "metadata": {},
   "outputs": [],
   "source": [
    "## Selecting only relevant metadata\n"
   ]
  }
 ],
 "metadata": {
  "kernelspec": {
   "display_name": "venv",
   "language": "python",
   "name": "python3"
  },
  "language_info": {
   "codemirror_mode": {
    "name": "ipython",
    "version": 3
   },
   "file_extension": ".py",
   "mimetype": "text/x-python",
   "name": "python",
   "nbconvert_exporter": "python",
   "pygments_lexer": "ipython3",
   "version": "3.10.9"
  }
 },
 "nbformat": 4,
 "nbformat_minor": 5
}
